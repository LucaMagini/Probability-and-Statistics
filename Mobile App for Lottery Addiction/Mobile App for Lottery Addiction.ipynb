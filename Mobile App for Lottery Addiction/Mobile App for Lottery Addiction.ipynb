{
 "cells": [
  {
   "cell_type": "markdown",
   "metadata": {},
   "source": [
    "# Mobile App for Lottery Addiction"
   ]
  },
  {
   "cell_type": "markdown",
   "metadata": {},
   "source": [
    "We want to contribute to the development of a mobile app that is meant to help lottery addicts better understand their chances of winning.\n",
    "\n",
    "We think the goal of this app is significant at social level since many people start playing for fun but for some this activity turns into a habit and which eventually escalates into addiction. Like other compulsive gamblers, lottery addicts soon begin spending from their savings and loans, they start to accumulate debts, and eventually engage in desperate behaviors like theft.\n",
    "\n",
    "A medical institute, that aims to prevent and treat gambling addiction, wants to build a dedicate mobile app to help lottery addicts, and our task is to create the logical core of the app and calculate probabilities.\n",
    "For this first version of the app, we'll focus on the [6/49 lottery](https://en.wikipedia.org/wiki/Lotto_6/49) and we'll build functions that enable users to answer questions like:\n",
    "\n",
    "* What is the probability of winning ten big prize with a single ticket ?\n",
    "* What is the probability of winning the big prize if we play 40 different tickets (or any other number)?\n",
    "* What is the probability of having at least five (or four, or three, or two) winning numbers on a single ticket?\n",
    "\n",
    "We'll also consider historical data about the 6/49 lottery. [The data set](https://www.kaggle.com/datascienceai/lottery-dataset) has data for 3665 drawings, from 1982 to 2018.\n",
    "\n",
    "The scenario we're following throughout this project is fictional — the main purpose is to practice applying probability and combinatorics concepts in a setting that simulates a real-world scenario."
   ]
  },
  {
   "cell_type": "markdown",
   "metadata": {},
   "source": [
    "## Core Functions"
   ]
  },
  {
   "cell_type": "markdown",
   "metadata": {},
   "source": [
    "In the 6/49 lottery, six numbers are drawn from a set of 49 numbers that range from 1 to 49. The drawing is done without replacement, which means once a number is drawn, it's not put back in the set.\n",
    "\n",
    "Throughout the project, we'll need to calculate repeatedly probabilities and combinations. As a consequences, we'll start by writing two functions that we'll use often:\n",
    "\n",
    "* A function that calculate factorials.\n",
    "* A function that calculate combinations."
   ]
  },
  {
   "cell_type": "code",
   "execution_count": 2,
   "metadata": {
    "collapsed": true
   },
   "outputs": [],
   "source": [
    "#Defining the factorial function\n",
    "def factorial(n):\n",
    "    product = 1\n",
    "    for x in range(2, n+1):\n",
    "        product *= x\n",
    "    return product\n",
    "\n",
    "#Defining the combination function\n",
    "def combinations(n, k):\n",
    "    return (factorial(n) / factorial(k)) / factorial(n-k)"
   ]
  },
  {
   "cell_type": "markdown",
   "metadata": {},
   "source": [
    "## One-Ticket Probability"
   ]
  },
  {
   "cell_type": "markdown",
   "metadata": {},
   "source": [
    "Now we'll focus on writing a function that calculates the probability of winning the big prize. In the 6/49 lottery a player wins the big prize if the six numbers on their tickets match all the six numbers drawn.\n",
    "\n",
    "For this first version of the app, we want players to be able to calculate the probabilty of winning the big prize with the various numbers the choose on a single ticket. We discussed with the engeneering teamof the mediacl institute, and they told us we need to be aware of the following details:\n",
    "\n",
    "* Inside the app, the user inputs six different numbers from 1 to 49.\n",
    "* Under the hood, the six numbers will come as a Python list, which will serve as the single input to our function.\n",
    "* The engineering team wants the function to print the probability value in a friendly way — in a way that people without any probability training are able to understand."
   ]
  },
  {
   "cell_type": "code",
   "execution_count": 3,
   "metadata": {},
   "outputs": [],
   "source": [
    "#Creating the function\n",
    "def one_ticket_probability(ticket_numbers):\n",
    "    possible_outcomes = combinations(49, 6)\n",
    "    successful_outcomes = 1\n",
    "    final_probability = successful_outcomes * 100 / possible_outcomes\n",
    "    print(\"With the numbers {} you have the {:.7f}% to win the big prize.\\nIn others words, you have 1 in {:,} chances to win.\"\n",
    "          .format(ticket_numbers, final_probability, int(100 / final_probability)))"
   ]
  },
  {
   "cell_type": "markdown",
   "metadata": {},
   "source": [
    "Now let's test our functions on two differents tickets."
   ]
  },
  {
   "cell_type": "code",
   "execution_count": 4,
   "metadata": {},
   "outputs": [
    {
     "name": "stdout",
     "output_type": "stream",
     "text": [
      "With the numbers [2, 44, 11, 7, 37, 26] you have the 0.0000072% to win the big prize.\n",
      "In others words, you have 1 in 13,983,816 chances to win.\n"
     ]
    }
   ],
   "source": [
    "#Test number 1\n",
    "one_ticket_probability([2, 44, 11, 7, 37, 26])"
   ]
  },
  {
   "cell_type": "code",
   "execution_count": 5,
   "metadata": {},
   "outputs": [
    {
     "name": "stdout",
     "output_type": "stream",
     "text": [
      "With the numbers [30, 48, 9, 22, 29, 16] you have the 0.0000072% to win the big prize.\n",
      "In others words, you have 1 in 13,983,816 chances to win.\n"
     ]
    }
   ],
   "source": [
    "#Test number 2\n",
    "one_ticket_probability([30, 48, 9, 22, 29, 16])"
   ]
  },
  {
   "cell_type": "markdown",
   "metadata": {},
   "source": [
    "## Historical Data Check for Canada Lottery"
   ]
  },
  {
   "cell_type": "markdown",
   "metadata": {},
   "source": [
    "We also have to allow users to compare their ticket against the historical lottery data and determine whether they would have ever won by now.\n",
    "\n",
    "Let's open the data set and get familiar with its structure."
   ]
  },
  {
   "cell_type": "code",
   "execution_count": 6,
   "metadata": {},
   "outputs": [
    {
     "data": {
      "text/plain": [
       "(3665, 11)"
      ]
     },
     "execution_count": 6,
     "metadata": {},
     "output_type": "execute_result"
    }
   ],
   "source": [
    "#Importing the library\n",
    "import pandas as pd\n",
    "\n",
    "#Opening the data set\n",
    "lottery = pd.read_csv(\"649.csv\")\n",
    "\n",
    "#Showing the dimension of the data\n",
    "lottery.shape"
   ]
  },
  {
   "cell_type": "code",
   "execution_count": 7,
   "metadata": {},
   "outputs": [
    {
     "data": {
      "text/html": [
       "<div>\n",
       "<style scoped>\n",
       "    .dataframe tbody tr th:only-of-type {\n",
       "        vertical-align: middle;\n",
       "    }\n",
       "\n",
       "    .dataframe tbody tr th {\n",
       "        vertical-align: top;\n",
       "    }\n",
       "\n",
       "    .dataframe thead th {\n",
       "        text-align: right;\n",
       "    }\n",
       "</style>\n",
       "<table border=\"1\" class=\"dataframe\">\n",
       "  <thead>\n",
       "    <tr style=\"text-align: right;\">\n",
       "      <th></th>\n",
       "      <th>PRODUCT</th>\n",
       "      <th>DRAW NUMBER</th>\n",
       "      <th>SEQUENCE NUMBER</th>\n",
       "      <th>DRAW DATE</th>\n",
       "      <th>NUMBER DRAWN 1</th>\n",
       "      <th>NUMBER DRAWN 2</th>\n",
       "      <th>NUMBER DRAWN 3</th>\n",
       "      <th>NUMBER DRAWN 4</th>\n",
       "      <th>NUMBER DRAWN 5</th>\n",
       "      <th>NUMBER DRAWN 6</th>\n",
       "      <th>BONUS NUMBER</th>\n",
       "    </tr>\n",
       "  </thead>\n",
       "  <tbody>\n",
       "    <tr>\n",
       "      <th>0</th>\n",
       "      <td>649</td>\n",
       "      <td>1</td>\n",
       "      <td>0</td>\n",
       "      <td>6/12/1982</td>\n",
       "      <td>3</td>\n",
       "      <td>11</td>\n",
       "      <td>12</td>\n",
       "      <td>14</td>\n",
       "      <td>41</td>\n",
       "      <td>43</td>\n",
       "      <td>13</td>\n",
       "    </tr>\n",
       "    <tr>\n",
       "      <th>1</th>\n",
       "      <td>649</td>\n",
       "      <td>2</td>\n",
       "      <td>0</td>\n",
       "      <td>6/19/1982</td>\n",
       "      <td>8</td>\n",
       "      <td>33</td>\n",
       "      <td>36</td>\n",
       "      <td>37</td>\n",
       "      <td>39</td>\n",
       "      <td>41</td>\n",
       "      <td>9</td>\n",
       "    </tr>\n",
       "    <tr>\n",
       "      <th>2</th>\n",
       "      <td>649</td>\n",
       "      <td>3</td>\n",
       "      <td>0</td>\n",
       "      <td>6/26/1982</td>\n",
       "      <td>1</td>\n",
       "      <td>6</td>\n",
       "      <td>23</td>\n",
       "      <td>24</td>\n",
       "      <td>27</td>\n",
       "      <td>39</td>\n",
       "      <td>34</td>\n",
       "    </tr>\n",
       "  </tbody>\n",
       "</table>\n",
       "</div>"
      ],
      "text/plain": [
       "   PRODUCT  DRAW NUMBER  SEQUENCE NUMBER  DRAW DATE  NUMBER DRAWN 1  \\\n",
       "0      649            1                0  6/12/1982               3   \n",
       "1      649            2                0  6/19/1982               8   \n",
       "2      649            3                0  6/26/1982               1   \n",
       "\n",
       "   NUMBER DRAWN 2  NUMBER DRAWN 3  NUMBER DRAWN 4  NUMBER DRAWN 5  \\\n",
       "0              11              12              14              41   \n",
       "1              33              36              37              39   \n",
       "2               6              23              24              27   \n",
       "\n",
       "   NUMBER DRAWN 6  BONUS NUMBER  \n",
       "0              43            13  \n",
       "1              41             9  \n",
       "2              39            34  "
      ]
     },
     "execution_count": 7,
     "metadata": {},
     "output_type": "execute_result"
    }
   ],
   "source": [
    "#Showing the first three rows\n",
    "lottery.head(3)"
   ]
  },
  {
   "cell_type": "code",
   "execution_count": 8,
   "metadata": {},
   "outputs": [
    {
     "data": {
      "text/html": [
       "<div>\n",
       "<style scoped>\n",
       "    .dataframe tbody tr th:only-of-type {\n",
       "        vertical-align: middle;\n",
       "    }\n",
       "\n",
       "    .dataframe tbody tr th {\n",
       "        vertical-align: top;\n",
       "    }\n",
       "\n",
       "    .dataframe thead th {\n",
       "        text-align: right;\n",
       "    }\n",
       "</style>\n",
       "<table border=\"1\" class=\"dataframe\">\n",
       "  <thead>\n",
       "    <tr style=\"text-align: right;\">\n",
       "      <th></th>\n",
       "      <th>PRODUCT</th>\n",
       "      <th>DRAW NUMBER</th>\n",
       "      <th>SEQUENCE NUMBER</th>\n",
       "      <th>DRAW DATE</th>\n",
       "      <th>NUMBER DRAWN 1</th>\n",
       "      <th>NUMBER DRAWN 2</th>\n",
       "      <th>NUMBER DRAWN 3</th>\n",
       "      <th>NUMBER DRAWN 4</th>\n",
       "      <th>NUMBER DRAWN 5</th>\n",
       "      <th>NUMBER DRAWN 6</th>\n",
       "      <th>BONUS NUMBER</th>\n",
       "    </tr>\n",
       "  </thead>\n",
       "  <tbody>\n",
       "    <tr>\n",
       "      <th>3662</th>\n",
       "      <td>649</td>\n",
       "      <td>3589</td>\n",
       "      <td>0</td>\n",
       "      <td>6/13/2018</td>\n",
       "      <td>6</td>\n",
       "      <td>22</td>\n",
       "      <td>24</td>\n",
       "      <td>31</td>\n",
       "      <td>32</td>\n",
       "      <td>34</td>\n",
       "      <td>16</td>\n",
       "    </tr>\n",
       "    <tr>\n",
       "      <th>3663</th>\n",
       "      <td>649</td>\n",
       "      <td>3590</td>\n",
       "      <td>0</td>\n",
       "      <td>6/16/2018</td>\n",
       "      <td>2</td>\n",
       "      <td>15</td>\n",
       "      <td>21</td>\n",
       "      <td>31</td>\n",
       "      <td>38</td>\n",
       "      <td>49</td>\n",
       "      <td>8</td>\n",
       "    </tr>\n",
       "    <tr>\n",
       "      <th>3664</th>\n",
       "      <td>649</td>\n",
       "      <td>3591</td>\n",
       "      <td>0</td>\n",
       "      <td>6/20/2018</td>\n",
       "      <td>14</td>\n",
       "      <td>24</td>\n",
       "      <td>31</td>\n",
       "      <td>35</td>\n",
       "      <td>37</td>\n",
       "      <td>48</td>\n",
       "      <td>17</td>\n",
       "    </tr>\n",
       "  </tbody>\n",
       "</table>\n",
       "</div>"
      ],
      "text/plain": [
       "      PRODUCT  DRAW NUMBER  SEQUENCE NUMBER  DRAW DATE  NUMBER DRAWN 1  \\\n",
       "3662      649         3589                0  6/13/2018               6   \n",
       "3663      649         3590                0  6/16/2018               2   \n",
       "3664      649         3591                0  6/20/2018              14   \n",
       "\n",
       "      NUMBER DRAWN 2  NUMBER DRAWN 3  NUMBER DRAWN 4  NUMBER DRAWN 5  \\\n",
       "3662              22              24              31              32   \n",
       "3663              15              21              31              38   \n",
       "3664              24              31              35              37   \n",
       "\n",
       "      NUMBER DRAWN 6  BONUS NUMBER  \n",
       "3662              34            16  \n",
       "3663              49             8  \n",
       "3664              48            17  "
      ]
     },
     "execution_count": 8,
     "metadata": {},
     "output_type": "execute_result"
    }
   ],
   "source": [
    "#Showing the last three rows\n",
    "lottery.tail(3)"
   ]
  },
  {
   "cell_type": "markdown",
   "metadata": {},
   "source": [
    "The data is very user friendly, for each drawing we can find the six numbers drawn in the following six columns:\n",
    "\n",
    "* *NUMBER DRAWN 1*\n",
    "* *NUMBER DRAWN 2*\n",
    "* *NUMBER DRAWN 3*\n",
    "* *NUMBER DRAWN 4*\n",
    "* *NUMBER DRAWN 5*\n",
    "* *NUMBER DRAWN 6*"
   ]
  },
  {
   "cell_type": "markdown",
   "metadata": {},
   "source": [
    "## Function for Historical Data Check"
   ]
  },
  {
   "cell_type": "markdown",
   "metadata": {},
   "source": [
    "We're going to write a function that enable users to compare their ticket against the historical lottery data.\n",
    "We need to be aware of the following details:\n",
    "\n",
    "* Inside the app, the user inputs six different numbers from 1 to 49.\n",
    "* Under the hood, the six numbers will come as a Python list and serve as an input to our function.\n",
    "* The engineering team wants us to write a function that prints:\n",
    "    * The number of times the combination selected               occurred in the Canada data set.\n",
    "    * The probability of winning the big prize in the next drawing with that combination."
   ]
  },
  {
   "cell_type": "code",
   "execution_count": 9,
   "metadata": {},
   "outputs": [
    {
     "data": {
      "text/plain": [
       "0    {3, 41, 11, 12, 43, 14}\n",
       "1    {33, 36, 37, 39, 8, 41}\n",
       "2     {1, 6, 39, 23, 24, 27}\n",
       "3     {3, 9, 10, 43, 13, 20}\n",
       "4    {34, 5, 14, 47, 21, 31}\n",
       "dtype: object"
      ]
     },
     "execution_count": 9,
     "metadata": {},
     "output_type": "execute_result"
    }
   ],
   "source": [
    "#Extracting the winning numbers in a set\n",
    "def extract_numbers(row):\n",
    "    row = row[4:10]\n",
    "    row = set(row)\n",
    "    return row\n",
    "\n",
    "winning_numbers = lottery.apply(extract_numbers, axis=1)\n",
    "winning_numbers.head()"
   ]
  },
  {
   "cell_type": "code",
   "execution_count": 10,
   "metadata": {
    "collapsed": true
   },
   "outputs": [],
   "source": [
    "#Checking the user ticket\n",
    "def check_historical_occurence(user_ticket, winning_numbers):\n",
    "    ticket = set(user_ticket)\n",
    "    match = ticket == winning_numbers\n",
    "    number_matches = 3665 - match.value_counts()[0]\n",
    "    print(\"The numbers {} occurred {} time/s from 1982 until now.\\nWith the numbers {} you have the {:.7f}% to win the big prize\".format\n",
    "          (user_ticket, number_matches, user_ticket, 100 / combinations(49, 6) ))"
   ]
  },
  {
   "cell_type": "markdown",
   "metadata": {},
   "source": [
    "Now let's test our functions."
   ]
  },
  {
   "cell_type": "code",
   "execution_count": 11,
   "metadata": {},
   "outputs": [
    {
     "name": "stdout",
     "output_type": "stream",
     "text": [
      "The numbers [3, 10, 43, 13, 9, 20] occurred 1 time/s from 1982 until now.\n",
      "With the numbers [3, 10, 43, 13, 9, 20] you have the 0.0000072% to win the big prize\n"
     ]
    }
   ],
   "source": [
    "#Test number 1\n",
    "check_historical_occurence([3,10,43,13,9,20], winning_numbers)"
   ]
  },
  {
   "cell_type": "code",
   "execution_count": 12,
   "metadata": {},
   "outputs": [
    {
     "name": "stdout",
     "output_type": "stream",
     "text": [
      "The numbers [39, 41, 12, 2, 8, 22] occurred 0 time/s from 1982 until now.\n",
      "With the numbers [39, 41, 12, 2, 8, 22] you have the 0.0000072% to win the big prize\n"
     ]
    }
   ],
   "source": [
    "#Test number 2\n",
    "check_historical_occurence([39,41,12,2,8,22], winning_numbers)"
   ]
  },
  {
   "cell_type": "markdown",
   "metadata": {},
   "source": [
    "## Multi-Ticket Probability"
   ]
  },
  {
   "cell_type": "markdown",
   "metadata": {},
   "source": [
    "Lottery addicts usually plays more than one ticket on a single drawing, thinking that this might increase their chances of winning significantly. Our aim is to help them to better understand their real chances of winning. We have to build the function following these information:\n",
    "\n",
    "* The user will input the number of different tickets they want to play (without inputting the specific combinations they intend to play).\n",
    "* Our function will see an integer between 1 and 13,983,816 (the maximum number of different tickets).\n",
    "* The function should print information about the probability of winning the big prize depending on the number of different tickets played.\n",
    "\n",
    "Let's start writing the function."
   ]
  },
  {
   "cell_type": "code",
   "execution_count": 13,
   "metadata": {},
   "outputs": [],
   "source": [
    "#Checking a number of tickets\n",
    "def multi_ticket_probability(n):\n",
    "    if n in range(1, int(combinations(49, 6) + 1)):\n",
    "        probability = n * 100 / combinations(49, 6)\n",
    "        print(\"With {} ticket/s you have the {:.7f}% to win the big prize.\\nIn others words, you have 1 in {:,} chances to win.\".format\n",
    "             (n, probability, int(100 / probability)))\n",
    "    else:\n",
    "        print(\"The number of tickets is too high\")"
   ]
  },
  {
   "cell_type": "markdown",
   "metadata": {},
   "source": [
    "Now we'll run a couple of tests of the function."
   ]
  },
  {
   "cell_type": "code",
   "execution_count": 14,
   "metadata": {},
   "outputs": [
    {
     "name": "stdout",
     "output_type": "stream",
     "text": [
      "With 1 ticket/s you have the 0.0000072% to win the big prize.\n",
      "In others words, you have 1 in 13,983,816 chances to win.\n",
      "--------------------------\n",
      "\n",
      "With 2 ticket/s you have the 0.0000143% to win the big prize.\n",
      "In others words, you have 1 in 6,991,908 chances to win.\n",
      "--------------------------\n",
      "\n",
      "With 100 ticket/s you have the 0.0007151% to win the big prize.\n",
      "In others words, you have 1 in 139,838 chances to win.\n",
      "--------------------------\n",
      "\n",
      "With 1000 ticket/s you have the 0.0071511% to win the big prize.\n",
      "In others words, you have 1 in 13,983 chances to win.\n",
      "--------------------------\n",
      "\n",
      "With 6991908 ticket/s you have the 50.0000000% to win the big prize.\n",
      "In others words, you have 1 in 2 chances to win.\n",
      "--------------------------\n",
      "\n",
      "With 13983816 ticket/s you have the 100.0000000% to win the big prize.\n",
      "In others words, you have 1 in 1 chances to win.\n",
      "--------------------------\n",
      "\n",
      "The number of tickets is too high\n",
      "--------------------------\n",
      "\n"
     ]
    }
   ],
   "source": [
    "#Testing the function\n",
    "test = [1, 2, 100, 1000, 6991908, 13983816, 13983817]\n",
    "for element in test:\n",
    "    multi_ticket_probability(element)\n",
    "    print(\"--------------------------\\n\")"
   ]
  },
  {
   "cell_type": "markdown",
   "metadata": {},
   "source": [
    "## Less Winning Numbers"
   ]
  },
  {
   "cell_type": "markdown",
   "metadata": {},
   "source": [
    "Here, we are going to write oone more function to allow the user to calculate probabilities for two, three, four or five winning numbers. In most lotteries there are smaller prizes if a user's ticket match two, three, four or five numbers of the six numbers drawn. As a consequence, the users might be interested in knowing the probability of winning these prizes. These are the details we'll have to be aware of:\n",
    "\n",
    "* Inside the app, the user inputs:\n",
    "    * Six different numbers from 1 to 49.\n",
    "    * An integer between 2 and 5 that represents the number of winning numbers expected.\n",
    "* Our function prints information about the probability of having the inputted number of winning numbers."
   ]
  },
  {
   "cell_type": "code",
   "execution_count": 21,
   "metadata": {
    "collapsed": true
   },
   "outputs": [],
   "source": [
    "#Creating the function \n",
    "def probability_less_6(n):\n",
    "    if n not in range(2,6):\n",
    "        print(\"Wrong number, please enter a correct number\")\n",
    "    else:\n",
    "        successful_outcomes = combinations(6, n) * combinations(43, 6-n)\n",
    "        total_outcomes = combinations(49, 6)\n",
    "        probability = successful_outcomes / total_outcomes * 100\n",
    "        print(\"Your probability of having {} winning numbers is {:.7f}%.\\nIn other words you have 1 in {:,} chances to win.\".format\n",
    "              (n, probability, round(100 / probability)))"
   ]
  },
  {
   "cell_type": "markdown",
   "metadata": {},
   "source": [
    "Now, let's test our function on all the possible outputs."
   ]
  },
  {
   "cell_type": "code",
   "execution_count": 22,
   "metadata": {},
   "outputs": [
    {
     "name": "stdout",
     "output_type": "stream",
     "text": [
      "Your probability of having 2 winning numbers is 13.2378029%.\n",
      "In other words you have 1 in 8 chances to win.\n",
      "--------------------\n",
      "\n",
      "Your probability of having 3 winning numbers is 1.7650404%.\n",
      "In other words you have 1 in 57 chances to win.\n",
      "--------------------\n",
      "\n",
      "Your probability of having 4 winning numbers is 0.0968620%.\n",
      "In other words you have 1 in 1,032 chances to win.\n",
      "--------------------\n",
      "\n",
      "Your probability of having 5 winning numbers is 0.0018450%.\n",
      "In other words you have 1 in 54,201 chances to win.\n",
      "--------------------\n",
      "\n"
     ]
    }
   ],
   "source": [
    "#Testing the function\n",
    "for n in range(2,6):\n",
    "    probability_less_6(n)\n",
    "    print(\"--------------------\\n\")"
   ]
  },
  {
   "cell_type": "markdown",
   "metadata": {},
   "source": [
    "## Conclusion"
   ]
  },
  {
   "cell_type": "markdown",
   "metadata": {},
   "source": [
    "Doing a recap, we have wrote four main functions:\n",
    "\n",
    "* one_ticket_probability() — calculates the probability of winning the big prize with a single ticket.\n",
    "* check_historical_occurrence() — checks whether a certain combination has occurred in the lottery data set.\n",
    "* multi_ticket_probability() — calculates the probability for any number of of tickets between 1 and 13,983,816.\n",
    "* probability_less_6() — calculates the probability of having two, three, four or five winning numbers.\n",
    "\n",
    "The project is concluded, anyway we would like to suggest some other features for a second version of the app:\n",
    "\n",
    "* Making the outputs even easier to understand by adding fun analogies (for instance, we can output something like : \"You are 100 times more likely to be victim of a shark attack than winning the lottery\").\n",
    "* Creating a function which calculates the probability to have *at least* two, three, four or five winning numbers. "
   ]
  }
 ],
 "metadata": {
  "kernelspec": {
   "display_name": "Python 3",
   "language": "python",
   "name": "python3"
  },
  "language_info": {
   "codemirror_mode": {
    "name": "ipython",
    "version": 3
   },
   "file_extension": ".py",
   "mimetype": "text/x-python",
   "name": "python",
   "nbconvert_exporter": "python",
   "pygments_lexer": "ipython3",
   "version": "3.7.3"
  }
 },
 "nbformat": 4,
 "nbformat_minor": 2
}
